{
  "nbformat": 4,
  "nbformat_minor": 0,
  "metadata": {
    "colab": {
      "provenance": []
    },
    "kernelspec": {
      "name": "python3",
      "display_name": "Python 3"
    },
    "language_info": {
      "name": "python"
    }
  },
  "cells": [
    {
      "cell_type": "markdown",
      "source": [
        "# **Predicting and understanding viewer engagement with educational videos**\n",
        "\n",
        "With the accelerating popularity of online educational experiences, the role of online lectures and other educational video continues to increase in scope and importance. Open access educational repositories such as videolectures.net, as well as Massive Open Online Courses (MOOCs) on platforms like Coursera, have made access to many thousands of lectures and tutorials an accessible option for millions of people around the world. Yet this impressive volume of content has also led to a challenge in how to find, filter, and match these videos with learners.\n",
        "\n",
        "One critical property of a video is engagement: how interesting or \"engaging\" it is for viewers, so that they decide to keep watching. Engagement is critical for learning, whether the instruction is coming from a video or any other source. There are many ways to define engagement with video, but one common approach is to estimate it by measuring how much of the video a user watches. If the video is not interesting and does not engage a viewer, they will typically abandon it quickly, e.g. only watch 5 or 10% of the total.\n",
        "\n",
        "A first step towards providing the best-matching educational content is to understand which features of educational material make it engaging for learners in general. This is where predictive modeling can be applied, via supervised machine learning. For this assignment, your task is to predict how engaging an educational video is likely to be for viewers, based on a set of features extracted from the video's transcript, audio track, hosting site, and other sources.\n",
        "\n",
        "# **About the Dataset**\n",
        "\n",
        "We extracted training and test datasets of educational video features from the VLE Dataset put together by researcher Sahan Bulathwela at University College London.\n",
        "\n",
        "We provide you with two data files for use in training and validating your models: train.csv and test.csv. Each row in these two files corresponds to a single educational video, and includes information about diverse properties of the video content as described further below. The target variable is engagement which was defined as True if the median percentage of the video watched across all viewers was at least 30%, and False otherwise.\n",
        "\n",
        "# **Evaluation**\n",
        "\n",
        "Predictions will be given as the probability that the corresponding video will be engaging to learners. The evaluation metric for this assignment is the Area Under the ROC Curve (AUC)."
      ],
      "metadata": {
        "id": "2JG7w1W8mQfx"
      }
    },
    {
      "cell_type": "code",
      "execution_count": null,
      "metadata": {
        "id": "VMU2d2PFl7WF"
      },
      "outputs": [],
      "source": [
        "import os\n",
        "import pandas as pd\n",
        "import numpy as np\n",
        "import matplotlib.pyplot as plt\n",
        "\n",
        "np.random.seed(0)"
      ]
    },
    {
      "cell_type": "code",
      "source": [
        "from sklearn.ensemble import RandomForestClassifier\n",
        "from sklearn.model_selection import train_test_split, GridSearchCV\n",
        "from sklearn.metrics import roc_auc_score\n",
        "from sklearn.preprocessing import StandardScaler\n",
        "\n",
        "def engagement_model():\n",
        "    train = pd.read_csv(\"assets/train.csv\")\n",
        "    test = pd.read_csv(\"assets/test.csv\")\n",
        "    features = [\n",
        "        \"title_word_count\", \"document_entropy\", \"freshness\",\n",
        "        \"easiness\", \"fraction_stopword_presence\", \"speaker_speed\", \"silent_period_rate\"\n",
        "    ]\n",
        "    X = train[features]\n",
        "    y = train[\"engagement\"].astype(int)  # Convert to binary label\n",
        "    X_test = test[features]\n",
        "\n",
        "    scaler = StandardScaler()\n",
        "    X_scaled = scaler.fit_transform(X)\n",
        "    X_test_scaled = scaler.transform(X_test)\n",
        "    X_train, X_val, y_train, y_val = train_test_split(X_scaled, y, test_size=0.2, random_state=42)\n",
        "\n",
        "    model = RandomForestClassifier(random_state=42)\n",
        "    param_grid = {\n",
        "        \"n_estimators\": [50, 100, 200],\n",
        "        \"max_depth\": [None, 10, 20],\n",
        "        \"min_samples_split\": [2, 5, 10]\n",
        "    }\n",
        "    grid_search = GridSearchCV(model, param_grid, scoring=\"roc_auc\", cv=3, n_jobs=-1)\n",
        "    grid_search.fit(X_train, y_train)\n",
        "\n",
        "    best_model = grid_search.best_estimator_\n",
        "    y_val_pred = best_model.predict_proba(X_val)[:, 1]\n",
        "    auc_score = roc_auc_score(y_val, y_val_pred)\n",
        "    print(f\"Validation AUC: {auc_score:.4f}\")\n",
        "\n",
        "    y_test_pred = best_model.predict_proba(X_test_scaled)[:, 1]\n",
        "\n",
        "    rec = pd.Series(y_test_pred, index=test[\"id\"], name=\"engagement\")\n",
        "    return rec\n",
        "\n",
        "stu_ans = engagement_model()"
      ],
      "metadata": {
        "id": "2t1hwRsSn4Zz"
      },
      "execution_count": null,
      "outputs": []
    },
    {
      "cell_type": "code",
      "source": [
        "stu_ans = engagement_model()\n",
        "assert isinstance(stu_ans, pd.Series),\n",
        "assert len(stu_ans) == 2309,\n",
        "assert np.issubdtype(stu_ans.index.dtype, np.integer)"
      ],
      "metadata": {
        "id": "mLV3ThWjoA3Q"
      },
      "execution_count": null,
      "outputs": []
    },
    {
      "cell_type": "markdown",
      "source": [
        "Validation AUC: 0.8971"
      ],
      "metadata": {
        "id": "PRN3XKiUoVTO"
      }
    }
  ]
}